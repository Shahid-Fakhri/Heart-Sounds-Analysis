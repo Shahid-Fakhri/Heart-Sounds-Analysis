{
  "nbformat": 4,
  "nbformat_minor": 0,
  "metadata": {
    "colab": {
      "provenance": []
    },
    "kernelspec": {
      "name": "python3",
      "display_name": "Python 3"
    },
    "language_info": {
      "name": "python"
    }
  },
  "cells": [
    {
      "cell_type": "code",
      "execution_count": null,
      "metadata": {
        "id": "lADmtTBXQdyI"
      },
      "outputs": [],
      "source": [
        "import numpy as np\n",
        "import pandas as pd\n",
        "from matplotlib import pyplot as plt\n",
        "import seaborn as sns\n",
        "from scipy import signal\n",
        "from sklearn.utils import shuffle\n",
        "import librosa as lb\n",
        "from collections import Counter\n",
        "import os\n",
        "import warnings\n",
        "warnings.filterwarnings('ignore')"
      ]
    },
    {
      "cell_type": "code",
      "source": [
        "from google.colab import drive\n",
        "drive.mount('/content/drive')"
      ],
      "metadata": {
        "colab": {
          "base_uri": "https://localhost:8080/"
        },
        "id": "xLiVQi3tRJGM",
        "outputId": "201f342c-3488-4713-9def-ef5902084624"
      },
      "execution_count": null,
      "outputs": [
        {
          "output_type": "stream",
          "name": "stdout",
          "text": [
            "Mounted at /content/drive\n"
          ]
        }
      ]
    },
    {
      "cell_type": "code",
      "source": [
        "# Augmentation - signal rolling\n",
        "import glob\n",
        "import os\n",
        "import librosa\n",
        "import soundfile as sf\n",
        "path_original = \"/content/synthetic\"\n",
        "path_aug1_roll =\"/content/drive/MyDrive/animal_sound_augmented1/synthetic/roll/\"\n",
        "n=0\n",
        "for filename in glob.glob(os.path.join(path_original, \"*.*\")):\n",
        "  data = librosa.core.load(filename, sr=None)[0] #, sr=2000\n",
        "  data_roll = np.roll(data, 8000)\n",
        "  sf.write(path_aug1_roll+'synthetic_roll'+str(n)+'.wav', data_roll, 2000)\n",
        "  n+=1"
      ],
      "metadata": {
        "id": "SOX3v5dhWn16"
      },
      "execution_count": null,
      "outputs": []
    },
    {
      "cell_type": "code",
      "source": [
        "pip install pydub"
      ],
      "metadata": {
        "colab": {
          "base_uri": "https://localhost:8080/"
        },
        "id": "s2XcY5iDYku7",
        "outputId": "97818905-52ca-4673-a918-9b78cf8e658e"
      },
      "execution_count": null,
      "outputs": [
        {
          "output_type": "stream",
          "name": "stdout",
          "text": [
            "Looking in indexes: https://pypi.org/simple, https://us-python.pkg.dev/colab-wheels/public/simple/\n",
            "Collecting pydub\n",
            "  Downloading pydub-0.25.1-py2.py3-none-any.whl (32 kB)\n",
            "Installing collected packages: pydub\n",
            "Successfully installed pydub-0.25.1\n"
          ]
        }
      ]
    },
    {
      "cell_type": "code",
      "source": [
        "# Augmentation - pitch shifting\n",
        "from pydub import AudioSegment\n",
        "from numpy.random import uniform\n",
        "from scipy import signal\n",
        "path_original = \"/content/synthetic\"\n",
        "path_aug1_shift =\"/content/drive/MyDrive/animal_sound_augmented1/synthetic/shift/\"\n",
        "n=0\n",
        "for filename in glob.glob(os.path.join(path_original, \"*.*\")):\n",
        "  sound = AudioSegment.from_file(filename, format=\"aac\")\n",
        "  #For every sound type, I am using the method under below.\n",
        "  #sound = AudioSegment.from_file(filename, format=filename[-3:])\n",
        "  octaves = 0.5 # For decreasing, octave can be -0.5, -2 etc.\n",
        "  new_sample_rate = int(sound.frame_rate * (2.0 ** octaves))\n",
        "  hipitch_sound = sound._spawn(sound.raw_data, overrides={'frame_rate': new_sample_rate})\n",
        "  hipitch_sound = hipitch_sound.set_frame_rate(2000)\n",
        "  hipitch_sound.export(path_aug1_shift+'synthetic_shift'+str(n)+'.wav', format=\"wav\")\n",
        "  n+=1"
      ],
      "metadata": {
        "id": "9D1NKAgVX2AA"
      },
      "execution_count": null,
      "outputs": []
    },
    {
      "cell_type": "code",
      "source": [
        "# load sound files as raw data\n",
        "def load_data(directory_path):\n",
        "    data = [] # list of all raw audio array\n",
        "\n",
        "    for path in glob.glob(os.path.join(directory_path, \"*\")): # loop to load all files with the given name mentioned in exel file\n",
        "      aud = path #full path to heart wav file\n",
        "      dt , sr = lb.load(aud, sr=None) # dt : raw array and sr:sampling rate\n",
        "      #print(sr)\n",
        "      dt = lb.to_mono(dt) # convert to mono channel if it is double\n",
        "      dt = dt.astype('float32')\n",
        "\n",
        "      # resampling frequecy rate into fix 2000\n",
        "      # number_of_samples = round(len(dt) * float(2000) / sr) # total samples in full signals\n",
        "      # readings_resampled = signal.resample(dt, number_of_samples) # resample signal into calculated samples so getting 2000 sr.\n",
        "      data.append(dt) # append each signal into list as raw audio data\n",
        "\n",
        "    return np.array(data)\n",
        "\n",
        "# geting data PCG sound samples\n",
        "directory_path = '/content/all_synthetic'\n",
        "raw_data= load_data(directory_path)\n",
        "len(raw_data)"
      ],
      "metadata": {
        "id": "xRM6xR_YRTgH",
        "colab": {
          "base_uri": "https://localhost:8080/"
        },
        "outputId": "f631f889-c752-473d-ba1d-45d2e31f2385"
      },
      "execution_count": null,
      "outputs": [
        {
          "output_type": "execute_result",
          "data": {
            "text/plain": [
              "120"
            ]
          },
          "metadata": {},
          "execution_count": 8
        }
      ]
    },
    {
      "cell_type": "code",
      "source": [
        "# make Chunks all normal and abnormal and save all audios\n",
        "import soundfile as sf\n",
        "# path_normal = \"/content/drive/MyDrive/Physionet_chunks_8sec/normal/\"\n",
        "# path_abnormal = \"/content/drive/MyDrive/Physionet_chunks_8sec/abnormal/\"\n",
        "path_all_normal = \"/content/drive/MyDrive/animal_sound_augmented1/synthetic/all_synthetic/\"\n",
        "def make_chunks(data):\n",
        "  input_length = 2000*8 # 8 seconds\n",
        "  n=0\n",
        "  for i in range(0, len(data)): # loop through evey raw audio array\n",
        "    if len(data[i]) > input_length: # if signal len is greater then 8 sec\n",
        "      for t in range(0, len(data[i])-input_length, input_length):\n",
        "        dx = data[i][t:t + input_length]\n",
        "        sf.write(path_all_normal+'normal'+str(n)+'.wav', dx, 2000)\n",
        "        n+=1\n",
        "\n",
        "        temp2 = data[i][len(dx):]\n",
        "        if len(temp2)<=input_length:#\n",
        "          dx = temp2\n",
        "          while (input_length>len(dx)):\n",
        "            dif = abs(input_length - len(dx))     # get require extended len\n",
        "            req_padd = dx[:dif]\n",
        "            dx = np.append(dx, req_padd, axis=0)\n",
        "\n",
        "    elif len(data[i] < input_length):\n",
        "      dx = data[i]\n",
        "      while (input_length>len(dx)):\n",
        "        dif = abs(input_length - len(dx))     # get require extended len\n",
        "        req_padd = dx[:dif]\n",
        "        dx = np.append(dx, req_padd, axis=0)\n",
        "\n",
        "    else:\n",
        "      dx = data[i]\n",
        "\n",
        "    sf.write(path_all_normal+'synthetic'+str(n)+'.wav', dx, 2000)\n",
        "    n+=1\n",
        ""
      ],
      "metadata": {
        "id": "6DzIzZJLYqGL"
      },
      "execution_count": null,
      "outputs": []
    },
    {
      "cell_type": "code",
      "source": [
        "make_chunks(raw_data)"
      ],
      "metadata": {
        "id": "pk2zfO-2cPO9"
      },
      "execution_count": null,
      "outputs": []
    }
  ]
}